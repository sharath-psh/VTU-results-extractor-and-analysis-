{
 "cells": [
  {
   "cell_type": "code",
   "execution_count": 1,
   "metadata": {},
   "outputs": [],
   "source": [
    "# > url :: https://www.vtu4u.com/results/1bi18mca63?cbse=1\n",
    "from selenium import webdriver\n",
    "import time\n",
    "import requests\n",
    "import pandas as pd\n",
    "from bs4 import BeautifulSoup\n",
    "import urllib.request\n",
    "from pprint import pprint\n",
    "from urllib.request import urlopen\n",
    "import re"
   ]
  },
  {
   "cell_type": "code",
   "execution_count": 2,
   "metadata": {},
   "outputs": [],
   "source": [
    "def start():\n",
    "    print(\"starting\")\n",
    "\n",
    "def waiter():\n",
    "\tprint(\"Waiting started\")\n",
    "\ttime.sleep(2)\n",
    "\tprint(\"Waiting done\")"
   ]
  },
  {
   "cell_type": "code",
   "execution_count": 3,
   "metadata": {},
   "outputs": [],
   "source": [
    "#setting up the driver\n",
    "def driver_setup():\n",
    "    print(\"Setting up the driver\")\n",
    "    global driver\n",
    "    driver = webdriver.Chrome(executable_path=r\"C:/webdriver/chromedriver.exe\")\n",
    "    print(\"done\")\n",
    "    return driver"
   ]
  },
  {
   "cell_type": "code",
   "execution_count": 4,
   "metadata": {},
   "outputs": [],
   "source": [
    "def gen_url():\n",
    "    a=61\n",
    "    b=63\n",
    "    for i in range(a,b+1):\n",
    "        mod=\"https://www.vtu4u.com/result/1bi18mca\"+str(i)+\"/sem-4/rs-22?cbse=1\"\n",
    "        get_data(mod)"
   ]
  },
  {
   "cell_type": "code",
   "execution_count": 5,
   "metadata": {},
   "outputs": [],
   "source": [
    "def get_data(mod):\n",
    "    url = mod\n",
    "    page = driver.get(url)\n",
    "    time.sleep(2)\n",
    "    student_name = driver.find_element_by_xpath('/html/body/div/div[2]/div[1]/div[2]/div[1]/div[3]/div[2]/div[1]/p')\n",
    "    student_name = str(student_name.text)\n",
    "    student_usn = driver.find_element_by_xpath('/html/body/div/div[2]/div[1]/div[2]/div[1]/div[3]/div[2]/div[2]/p')\n",
    "    student_usn = str(student_usn.text)\n",
    "\n",
    "    #printing the data\n",
    "    student_name=student_name.replace('Student Name :','')\n",
    "    student_name=student_name.replace('NAME :     ','')\n",
    "    print(student_name)\n",
    "    student_usn=student_usn.replace('Student USN :','')\n",
    "    student_usn=student_usn.replace('USN    :     ','')\n",
    "    print(student_usn)\n",
    "\n",
    "    #create df for current usn\n",
    "    df = pd.read_html(driver.page_source)[0]\n",
    "    print(df)\n",
    "\n",
    "    sub_code = df['Code'].values[0]\n",
    "    sub_total = df['Total'].values[0]\n",
    "    new_row = {'Name':student_name, 'USN':student_usn, 'sub1':sub_total}\n",
    "    add_row(new_row)"
   ]
  },
  {
   "cell_type": "code",
   "execution_count": 6,
   "metadata": {},
   "outputs": [],
   "source": [
    "def add_row(new_row):\n",
    "    #append row to the dataframe\n",
    "    global ft \n",
    "    ft= ft.append(new_row, ignore_index=True)\n",
    "    print(ft)"
   ]
  },
  {
   "cell_type": "code",
   "execution_count": 7,
   "metadata": {},
   "outputs": [],
   "source": [
    "def close_driver():\n",
    "    print(\"Closing Driver\")\n",
    "    driver.close()"
   ]
  },
  {
   "cell_type": "code",
   "execution_count": null,
   "metadata": {},
   "outputs": [],
   "source": [
    "# global ft\n",
    "ft = pd.DataFrame(columns=['Name','USN','sub1'])\n",
    "print(ft)"
   ]
  },
  {
   "cell_type": "raw",
   "metadata": {},
   "source": [
    "start()\n",
    "driver=driver_setup()\n",
    "waiter()\n",
    "gen_url()\n",
    "close_driver()"
   ]
  },
  {
   "cell_type": "code",
   "execution_count": null,
   "metadata": {},
   "outputs": [],
   "source": []
  }
 ],
 "metadata": {
  "kernelspec": {
   "display_name": "Python 3",
   "language": "python",
   "name": "python3"
  },
  "language_info": {
   "codemirror_mode": {
    "name": "ipython",
    "version": 3
   },
   "file_extension": ".py",
   "mimetype": "text/x-python",
   "name": "python",
   "nbconvert_exporter": "python",
   "pygments_lexer": "ipython3",
   "version": "3.7.3"
  }
 },
 "nbformat": 4,
 "nbformat_minor": 2
}
